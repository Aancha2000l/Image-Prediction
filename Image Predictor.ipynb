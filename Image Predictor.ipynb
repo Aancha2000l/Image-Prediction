{
 "cells": [
  {
   "cell_type": "code",
   "execution_count": 1,
   "metadata": {},
   "outputs": [
    {
     "name": "stdout",
     "output_type": "stream",
     "text": [
      "Requirement already satisfied: ipython-autotime in c:\\users\\asus\\anaconda3\\lib\\site-packages (0.3.1)\n",
      "Requirement already satisfied: ipython in c:\\users\\asus\\anaconda3\\lib\\site-packages (from ipython-autotime) (7.19.0)\n",
      "Requirement already satisfied: jedi>=0.10 in c:\\users\\asus\\anaconda3\\lib\\site-packages (from ipython->ipython-autotime) (0.17.1)\n",
      "Requirement already satisfied: backcall in c:\\users\\asus\\anaconda3\\lib\\site-packages (from ipython->ipython-autotime) (0.2.0)\n",
      "Requirement already satisfied: pygments in c:\\users\\asus\\anaconda3\\lib\\site-packages (from ipython->ipython-autotime) (2.7.2)\n",
      "Requirement already satisfied: traitlets>=4.2 in c:\\users\\asus\\anaconda3\\lib\\site-packages (from ipython->ipython-autotime) (5.0.5)\n",
      "Requirement already satisfied: colorama; sys_platform == \"win32\" in c:\\users\\asus\\anaconda3\\lib\\site-packages (from ipython->ipython-autotime) (0.4.4)\n",
      "Requirement already satisfied: pickleshare in c:\\users\\asus\\anaconda3\\lib\\site-packages (from ipython->ipython-autotime) (0.7.5)\n",
      "Requirement already satisfied: prompt-toolkit!=3.0.0,!=3.0.1,<3.1.0,>=2.0.0 in c:\\users\\asus\\anaconda3\\lib\\site-packages (from ipython->ipython-autotime) (3.0.8)\n",
      "Requirement already satisfied: setuptools>=18.5 in c:\\users\\asus\\anaconda3\\lib\\site-packages (from ipython->ipython-autotime) (50.3.1.post20201107)\n",
      "Requirement already satisfied: decorator in c:\\users\\asus\\anaconda3\\lib\\site-packages (from ipython->ipython-autotime) (4.4.2)\n",
      "Requirement already satisfied: parso<0.8.0,>=0.7.0 in c:\\users\\asus\\anaconda3\\lib\\site-packages (from jedi>=0.10->ipython->ipython-autotime) (0.7.0)\n",
      "Requirement already satisfied: ipython-genutils in c:\\users\\asus\\anaconda3\\lib\\site-packages (from traitlets>=4.2->ipython->ipython-autotime) (0.2.0)\n",
      "Requirement already satisfied: wcwidth in c:\\users\\asus\\anaconda3\\lib\\site-packages (from prompt-toolkit!=3.0.0,!=3.0.1,<3.1.0,>=2.0.0->ipython->ipython-autotime) (0.2.5)\n",
      "time: 0 ns (started: 2021-02-21 14:57:31 +05:30)\n"
     ]
    }
   ],
   "source": [
    "!pip install ipython-autotime\n",
    "%load_ext autotime"
   ]
  },
  {
   "cell_type": "code",
   "execution_count": 2,
   "metadata": {},
   "outputs": [
    {
     "name": "stdout",
     "output_type": "stream",
     "text": [
      "Requirement already satisfied: bing-image-downloader in c:\\users\\asus\\anaconda3\\lib\\site-packages (1.0.4)\n",
      "time: 2.48 s (started: 2021-02-21 14:33:25 +05:30)\n"
     ]
    }
   ],
   "source": [
    "!pip install bing-image-downloader"
   ]
  },
  {
   "cell_type": "code",
   "execution_count": 3,
   "metadata": {},
   "outputs": [
    {
     "name": "stdout",
     "output_type": "stream",
     "text": [
      "time: 16 ms (started: 2021-02-21 14:33:27 +05:30)\n"
     ]
    },
    {
     "name": "stderr",
     "output_type": "stream",
     "text": [
      "A subdirectory or file images already exists.\n"
     ]
    }
   ],
   "source": [
    "!mkdir images"
   ]
  },
  {
   "cell_type": "code",
   "execution_count": 8,
   "metadata": {},
   "outputs": [
    {
     "name": "stdout",
     "output_type": "stream",
     "text": [
      "\n",
      "\n",
      "[!!]Indexing page: 1\n",
      "\n",
      "[%] Indexed 30 Images on Page 1.\n",
      "\n",
      "===============================================\n",
      "\n",
      "[%] Downloading Image #1 from https://www.almanac.com/sites/default/files/image_nodes/sunflower-1627193_1920.jpg\n",
      "[%] File Downloaded !\n",
      "\n",
      "[%] Downloading Image #2 from https://upload.wikimedia.org/wikipedia/commons/thumb/4/40/Sunflower_sky_backdrop.jpg/1200px-Sunflower_sky_backdrop.jpg\n",
      "[Error]Invalid image, not saving https://upload.wikimedia.org/wikipedia/commons/thumb/4/40/Sunflower_sky_backdrop.jpg/1200px-Sunflower_sky_backdrop.jpg\n",
      "\n",
      "[!] Issue getting: https://upload.wikimedia.org/wikipedia/commons/thumb/4/40/Sunflower_sky_backdrop.jpg/1200px-Sunflower_sky_backdrop.jpg\n",
      "[!] Error:: No active exception to reraise\n",
      "[%] Downloading Image #2 from https://upload.wikimedia.org/wikipedia/commons/a/a9/A_sunflower.jpg\n",
      "[%] File Downloaded !\n",
      "\n",
      "[%] Downloading Image #3 from https://www.agriorbit.com/wp-content/uploads/2019/05/sunflower-3550693_1920-1.jpg\n",
      "[%] File Downloaded !\n",
      "\n",
      "[%] Downloading Image #4 from https://www.agricol.co.za/wp-content/uploads/2015/06/AGSUN_01-min1.jpeg\n",
      "[%] File Downloaded !\n",
      "\n",
      "[%] Downloading Image #5 from https://www.treasuredhavenfarm.com/images/Sunflower9.jpg\n",
      "[%] File Downloaded !\n",
      "\n",
      "[%] Downloading Image #6 from https://www.lionsroar.com/wp-content/uploads/2017/08/sunflower-field.jpg\n",
      "[%] File Downloaded !\n",
      "\n",
      "[%] Downloading Image #7 from https://worldoffloweringplants.com/wp-content/uploads/2014/08/The-Story-of-the-Sunflower.jpg\n",
      "[%] File Downloaded !\n",
      "\n",
      "[%] Downloading Image #8 from https://chilliwacksunflowerfest.com/wp-content/uploads/2018/08/IMG_8538.jpg\n",
      "[%] File Downloaded !\n",
      "\n",
      "[%] Downloading Image #9 from https://www.shutterbug.com/images/photo_post/%5Buid%5D/N9010100_mod4.jpg\n",
      "[%] File Downloaded !\n",
      "\n",
      "[%] Downloading Image #10 from https://content.thriveglobal.in/wp-content/uploads/sites/3/2019/12/sunflower-field-3620919_1920.jpg\n",
      "[%] File Downloaded !\n",
      "\n",
      "[%] Downloading Image #11 from http://bobber.discoverwisconsin.com/media/sunflowercloseup-1024x682.jpg\n",
      "[%] File Downloaded !\n",
      "\n",
      "[%] Downloading Image #12 from https://lovewiseonline.org/wp-content/uploads/2019/03/sunflower-field.jpg\n",
      "[%] File Downloaded !\n",
      "\n",
      "[%] Downloading Image #13 from http://4.bp.blogspot.com/-NB_KmZdxrUA/Tp1NGCQ1U6I/AAAAAAAADPY/FnvLVYuEgdU/s1600/sunflower.jpg\n",
      "[%] File Downloaded !\n",
      "\n",
      "[%] Downloading Image #14 from https://cdn.cnn.com/cnnnext/dam/assets/190815135835-03-north-dakota-sunflower-super-tease.jpg\n",
      "[%] File Downloaded !\n",
      "\n",
      "[%] Downloading Image #15 from https://wallpaperplay.com/walls/full/6/7/e/254843.jpg\n",
      "[%] File Downloaded !\n",
      "\n",
      "[%] Downloading Image #16 from https://www.batterypark.tv/wp-content/uploads/2015/08/sunflower-head-8-25-2015.jpg\n",
      "[%] File Downloaded !\n",
      "\n",
      "[%] Downloading Image #17 from https://hips.hearstapps.com/hmg-prod.s3.amazonaws.com/images/sunflower-at-sunset-royalty-free-image-1594728646.jpg?crop=1.00xw:0.754xh;0,0.188xh&amp;resize=1200:*\n",
      "[%] File Downloaded !\n",
      "\n",
      "[%] Downloading Image #18 from https://www.seriouslyflowers.com/wp-content/uploads/2017/10/Large-Sunflower-600x433.jpg\n",
      "[%] File Downloaded !\n",
      "\n",
      "[%] Downloading Image #19 from https://4.bp.blogspot.com/-fc_mhd9rQZE/UmkaxFXEScI/AAAAAAAADzU/BqEO1QmCzk4/s1600/IMG_3172.JPG\n",
      "[%] File Downloaded !\n",
      "\n",
      "[%] Downloading Image #20 from https://tjsgardendotcom1.files.wordpress.com/2012/06/lemon-queen-variety-sunflower.jpg?w=840&amp;h=560\n",
      "[%] File Downloaded !\n",
      "\n",
      "[%] Downloading Image #21 from http://southeastagnet.com/wp-content/uploads/2017/08/Sunflower.jpg\n",
      "[%] File Downloaded !\n",
      "\n",
      "[%] Downloading Image #22 from https://www.agweek.com/incoming/4889174-ahu23k-1ZpdBiiXlpyAeWh4vcDV6x_KDBc_iqIkm.jpg/alternates/BASE_LANDSCAPE/1ZpdBiiXlpyAeWh4vcDV6x_KDBc_iqIkm.jpg\n",
      "[%] File Downloaded !\n",
      "\n",
      "[%] Downloading Image #23 from http://alliedartsyakima.org/wp-content/uploads/2019/04/81iT3vAlWfL._SL1500_.jpg\n",
      "[Error]Invalid image, not saving http://alliedartsyakima.org/wp-content/uploads/2019/04/81iT3vAlWfL._SL1500_.jpg\n",
      "\n",
      "[!] Issue getting: http://alliedartsyakima.org/wp-content/uploads/2019/04/81iT3vAlWfL._SL1500_.jpg\n",
      "[!] Error:: No active exception to reraise\n",
      "[%] Downloading Image #23 from https://static.agcanada.com/wp-content/uploads/sites/7/2017/12/sunflower-Thinkstock.jpg\n",
      "[%] File Downloaded !\n",
      "\n",
      "[%] Downloading Image #24 from https://softsolder.files.wordpress.com/2015/09/img_5701-sunflower-with-bumblebee-detail.jpg\n",
      "[%] File Downloaded !\n",
      "\n",
      "[%] Downloading Image #25 from http://higgledygarden.com/wp-content/uploads/2015/01/Sunflower-Field.jpg\n",
      "[%] File Downloaded !\n",
      "\n",
      "[%] Downloading Image #26 from https://www.gardenzeus.com/wp-content/uploads/Sunflower-P1140893.jpg\n",
      "[%] File Downloaded !\n",
      "\n",
      "[%] Downloading Image #27 from http://genomics-entrepreneurship.sites.olt.ubc.ca/files/2013/01/sunflower-940x704.jpg\n",
      "[%] File Downloaded !\n",
      "\n",
      "[%] Downloading Image #28 from https://prairiecalifornian.com/wp-content/uploads/2014/09/Sunflower-Photo-1.jpg\n",
      "[%] File Downloaded !\n",
      "\n",
      "\n",
      "\n",
      "[!!]Indexing page: 2\n",
      "\n",
      "[%] Indexed 35 Images on Page 2.\n",
      "\n",
      "===============================================\n",
      "\n",
      "[%] Downloading Image #29 from https://upload.wikimedia.org/wikipedia/commons/a/a9/A_sunflower.jpg\n",
      "[%] File Downloaded !\n",
      "\n",
      "[%] Downloading Image #30 from https://www.almanac.com/sites/default/files/image_nodes/sunflower-1627193_1920.jpg\n",
      "[%] File Downloaded !\n",
      "\n",
      "\n",
      "\n",
      "[%] Done. Downloaded 30 images.\n",
      "\n",
      "===============================================\n",
      "\n",
      "time: 2min 14s (started: 2021-02-20 22:37:06 +05:30)\n"
     ]
    }
   ],
   "source": [
    "from bing_image_downloader import downloader \n",
    "downloader.download(\"sunflower\",limit=30,output_dir ='images',adult_filter_off = True)"
   ]
  },
  {
   "cell_type": "code",
   "execution_count": 9,
   "metadata": {},
   "outputs": [
    {
     "name": "stdout",
     "output_type": "stream",
     "text": [
      "\n",
      "\n",
      "[!!]Indexing page: 1\n",
      "\n",
      "[%] Indexed 30 Images on Page 1.\n",
      "\n",
      "===============================================\n",
      "\n",
      "[%] Downloading Image #1 from http://www.theperfectrose.com/FS/STORE/104/2/Pink_Promise.jpg\n",
      "[%] File Downloaded !\n",
      "\n",
      "[%] Downloading Image #2 from https://www.gardeningknowhow.com/wp-content/uploads/2015/03/osiria-rose.jpg\n",
      "[%] File Downloaded !\n",
      "\n",
      "[%] Downloading Image #3 from https://enablelc.org/wp-content/uploads/2017/01/BS-Yellow-rose.jpg\n",
      "[%] File Downloaded !\n",
      "\n",
      "[%] Downloading Image #4 from https://www.cowellsgc.co.uk/files/images/webshop/rose-my-lovely-mum-keep-smiling-1546548287_l.jpg\n",
      "[%] File Downloaded !\n",
      "\n",
      "[%] Downloading Image #5 from https://www.lewisginter.org/wp-content/uploads/2014/11/Hybrid-Tea-Rose-Rosa-Olympiad-McGredy-Rosacae.jpg\n",
      "[%] File Downloaded !\n",
      "\n",
      "[%] Downloading Image #6 from https://susanrushtondotnet.files.wordpress.com/2015/03/orange-rose.jpg\n",
      "[%] File Downloaded !\n",
      "\n",
      "[%] Downloading Image #7 from https://www.naturehills.com/media/catalog/product/cache/35c1080e597d6a74b42d0d88ced836c1/e/a/easy-elegance-paint-the-town-rose-800x800.jpg\n",
      "[%] File Downloaded !\n",
      "\n",
      "[%] Downloading Image #8 from https://www.cowellsgc.co.uk/files/images/webshop/rose-sheila-s-perfume-1545222825_l.jpg\n",
      "[%] File Downloaded !\n",
      "\n",
      "[%] Downloading Image #9 from https://www.ftd.com/blog/content/uploads/2018/01/rose-color-meanings-hero.jpg\n",
      "[%] File Downloaded !\n",
      "\n",
      "[%] Downloading Image #10 from https://www.trevorwhiteroses.co.uk/wp-content/uploads/2018/02/ingrid-bergman-shrub-rose.jpg\n",
      "[%] File Downloaded !\n",
      "\n",
      "[%] Downloading Image #11 from https://www.florissa.com/wp-content/uploads/2016/05/Olivia-Rose-Austin-Ausmixture-A5lg.jpg\n",
      "[%] File Downloaded !\n",
      "\n",
      "[%] Downloading Image #12 from http://3.bp.blogspot.com/-PTMcU3iDimQ/UFAkJx8jQOI/AAAAAAAADEk/67ZUjOWUIrU/s1600/rose+sybmolism.jpg\n",
      "[%] File Downloaded !\n",
      "\n",
      "[%] Downloading Image #13 from https://www.trevorwhiteroses.co.uk/wp-content/uploads/2018/02/Simone-Trevor-White-Shrub-Rose.jpg\n",
      "[%] File Downloaded !\n",
      "\n",
      "[%] Downloading Image #14 from https://pixnio.com/free-images/2017/11/03/2017-11-03-23-21-56.jpg\n",
      "[%] File Downloaded !\n",
      "\n",
      "[%] Downloading Image #15 from http://minnesotarosesociety.org/wp-content/uploads/2013/08/queen-elizabeth.jpg\n",
      "[%] File Downloaded !\n",
      "\n",
      "[%] Downloading Image #16 from https://www.wallpapergeeks.com/wp-content/uploads/2014/02/Hybrid-Tea-Rose-Wallpaper.jpg\n",
      "[%] File Downloaded !\n",
      "\n",
      "[%] Downloading Image #17 from http://wallpaperping.com/wp-content/uploads/2020/06/pexels-photo-736231.jpeg\n",
      "[%] File Downloaded !\n",
      "\n",
      "[%] Downloading Image #18 from http://amandaaustinflowers.co.uk/wp-content/uploads/2015/05/Amanda-Austin-London-Florist-Memory-Lane-Rose.jpg\n",
      "[%] File Downloaded !\n",
      "\n",
      "[%] Downloading Image #19 from http://www.crgardencentre.com/sites/default/files/imagecache/product_full/veterans honor rose.jpg\n",
      "[!] Issue getting: http://www.crgardencentre.com/sites/default/files/imagecache/product_full/veterans honor rose.jpg\n",
      "[!] Error:: URL can't contain control characters. '/sites/default/files/imagecache/product_full/veterans honor rose.jpg' (found at least ' ')\n",
      "[%] Downloading Image #19 from https://shop.nationaltrust.org.uk/media/catalog/product/cache/5932356c5e31ff5dba48bcae8e697ec7/r/o/rose_valentines_day_card_promo.jpg\n",
      "[%] File Downloaded !\n",
      "\n",
      "[%] Downloading Image #20 from http://www.cowellsgc.co.uk/files/images/webshop/rose-arthur-bell-standard-1545809259_l.jpg\n",
      "[%] File Downloaded !\n",
      "\n",
      "[%] Downloading Image #21 from http://minnesotarosesociety.org/wp-content/uploads/2013/08/double-delight.jpg\n",
      "[%] File Downloaded !\n",
      "\n",
      "[%] Downloading Image #22 from https://www.jacksonsnurseries.co.uk/images/detailed/0/Rose_Alecs_Red.jpg\n",
      "[%] File Downloaded !\n",
      "\n",
      "[%] Downloading Image #23 from https://1.bp.blogspot.com/_sRrqxVuGxyY/S7hTdZ3BRnI/AAAAAAAAAd8/jYVkpXbNzlQ/s1600/normal-red-rose-blooming-enough-focused.JPG\n",
      "[%] File Downloaded !\n",
      "\n",
      "[%] Downloading Image #24 from http://rosesandgardens.com/gardening/wp-content/uploads/2012/02/Garden-Queen.jpg\n",
      "[%] File Downloaded !\n",
      "\n",
      "[%] Downloading Image #25 from https://www.jacksonandperkins.com/images/xxl/v2227_1.jpg\n",
      "[%] File Downloaded !\n",
      "\n",
      "[%] Downloading Image #26 from https://weknowyourdreams.com/images/rose/rose-12.jpg\n",
      "[!] Issue getting: https://weknowyourdreams.com/images/rose/rose-12.jpg\n",
      "[!] Error:: <urlopen error [SSL: CERTIFICATE_VERIFY_FAILED] certificate verify failed: Hostname mismatch, certificate is not valid for 'weknowyourdreams.com'. (_ssl.c:1123)>\n",
      "[%] Downloading Image #26 from http://sierraflowerfinder.blob.core.windows.net/medias/FlowerPictures/5416/roseberry2.jpg\n",
      "[%] File Downloaded !\n",
      "\n",
      "[%] Downloading Image #27 from https://www.gardeningknowhow.com/wp-content/uploads/2010/08/Electron-rose.jpg\n",
      "[%] File Downloaded !\n",
      "\n",
      "[%] Downloading Image #28 from https://garden.org/pics/2018-02-19/manueldalmeida/1e747f.jpg\n",
      "[%] File Downloaded !\n",
      "\n",
      "\n",
      "\n",
      "[!!]Indexing page: 2\n",
      "\n",
      "[%] Indexed 35 Images on Page 2.\n",
      "\n",
      "===============================================\n",
      "\n",
      "[%] Downloading Image #29 from https://enablelc.org/wp-content/uploads/2017/01/BS-Yellow-rose.jpg\n",
      "[%] File Downloaded !\n",
      "\n",
      "[%] Downloading Image #30 from https://susanrushtondotnet.files.wordpress.com/2015/03/orange-rose.jpg\n",
      "[%] File Downloaded !\n",
      "\n",
      "\n",
      "\n",
      "[%] Done. Downloaded 30 images.\n",
      "\n",
      "===============================================\n",
      "\n",
      "time: 1min 20s (started: 2021-02-20 22:39:21 +05:30)\n"
     ]
    }
   ],
   "source": [
    "from bing_image_downloader import downloader \n",
    "downloader.download(\"rose\",limit=30,output_dir ='images',adult_filter_off = True)"
   ]
  },
  {
   "cell_type": "code",
   "execution_count": 2,
   "metadata": {},
   "outputs": [
    {
     "name": "stdout",
     "output_type": "stream",
     "text": [
      "time: 969 ms (started: 2021-02-21 14:57:45 +05:30)\n"
     ]
    }
   ],
   "source": [
    "import os\n",
    "import matplotlib.pyplot as plt\n",
    "import numpy as np\n",
    "from skimage.io import imread\n",
    "from skimage.transform import resize"
   ]
  },
  {
   "cell_type": "code",
   "execution_count": 3,
   "metadata": {},
   "outputs": [
    {
     "name": "stdout",
     "output_type": "stream",
     "text": [
      "time: 58.5 s (started: 2021-02-21 14:57:46 +05:30)\n"
     ]
    }
   ],
   "source": [
    "target = []\n",
    "images = []\n",
    "flat_data= []\n",
    "\n",
    "DATADIR = 'C:/Users/Asus/Desktop/New folder/jupyternotebook/images'\n",
    "CATEGORIES = ['sunflower','rose']\n",
    "\n",
    "for category in CATEGORIES:\n",
    "    category_num = CATEGORIES.index(category)\n",
    "    path = os.path.join(DATADIR,category)\n",
    "    for img in os.listdir(path):\n",
    "        img_array = imread(os.path.join(path,img))\n",
    "        #print(img_array.shape)\n",
    "        #plt.imshow(img_array)\n",
    "        img_resized = resize(img_array,(150,150 ,3))\n",
    "        flat_data.append(img_resized.flatten())\n",
    "        images.append(img_resized)\n",
    "        target.append(category_num)\n",
    "        \n",
    "        \n",
    "flat_data =np.array(flat_data)     \n",
    "target = np.array(target)\n",
    "images= np.array(images)"
   ]
  },
  {
   "cell_type": "code",
   "execution_count": 4,
   "metadata": {},
   "outputs": [
    {
     "name": "stdout",
     "output_type": "stream",
     "text": [
      "time: 703 ms (started: 2021-02-21 14:58:44 +05:30)\n"
     ]
    }
   ],
   "source": [
    "from sklearn.model_selection import train_test_split\n",
    "X_train,X_test,y_train,y_test = train_test_split(flat_data,target,test_size=0.3,random_state=109)"
   ]
  },
  {
   "cell_type": "code",
   "execution_count": 5,
   "metadata": {},
   "outputs": [
    {
     "data": {
      "text/plain": [
       "GridSearchCV(estimator=SVC(probability=True),\n",
       "             param_grid=[{'C': [1, 10, 100, 1000], 'kernel': ['linear']},\n",
       "                         {'C': [1, 10, 100, 1000], 'gamma': [0.001, 0.0001],\n",
       "                          'kernel': ['rbf']}])"
      ]
     },
     "execution_count": 5,
     "metadata": {},
     "output_type": "execute_result"
    },
    {
     "name": "stdout",
     "output_type": "stream",
     "text": [
      "time: 35.6 s (started: 2021-02-21 14:58:45 +05:30)\n"
     ]
    }
   ],
   "source": [
    "from sklearn.model_selection import GridSearchCV\n",
    "from sklearn import svm\n",
    "param_grid = [{'C':[1,10,100,1000],'kernel':['linear']},\n",
    "              {'C':[1,10,100,1000],'gamma':[0.001,0.0001],'kernel':['rbf']},]\n",
    "svc = svm.SVC(probability=True)\n",
    "clf = GridSearchCV(svc,param_grid)\n",
    "clf.fit(X_train,y_train)"
   ]
  },
  {
   "cell_type": "code",
   "execution_count": 6,
   "metadata": {},
   "outputs": [
    {
     "data": {
      "text/plain": [
       "array([1, 0, 0, 1, 0, 0, 1, 1, 0, 1, 0, 1, 1, 0, 1, 0, 0, 0, 1])"
      ]
     },
     "execution_count": 6,
     "metadata": {},
     "output_type": "execute_result"
    },
    {
     "name": "stdout",
     "output_type": "stream",
     "text": [
      "time: 63 ms (started: 2021-02-21 14:59:21 +05:30)\n"
     ]
    }
   ],
   "source": [
    "y_pred = clf.predict(X_test)\n",
    "y_pred\n"
   ]
  },
  {
   "cell_type": "code",
   "execution_count": 7,
   "metadata": {},
   "outputs": [
    {
     "data": {
      "text/plain": [
       "array([1, 0, 0, 1, 0, 0, 1, 0, 0, 1, 1, 1, 1, 0, 1, 0, 0, 0, 1])"
      ]
     },
     "execution_count": 7,
     "metadata": {},
     "output_type": "execute_result"
    },
    {
     "name": "stdout",
     "output_type": "stream",
     "text": [
      "time: 0 ns (started: 2021-02-21 14:59:21 +05:30)\n"
     ]
    }
   ],
   "source": [
    "y_test"
   ]
  },
  {
   "cell_type": "code",
   "execution_count": 8,
   "metadata": {},
   "outputs": [
    {
     "name": "stdout",
     "output_type": "stream",
     "text": [
      "time: 0 ns (started: 2021-02-21 14:59:21 +05:30)\n"
     ]
    }
   ],
   "source": [
    "from sklearn.metrics import accuracy_score,confusion_matrix"
   ]
  },
  {
   "cell_type": "code",
   "execution_count": 9,
   "metadata": {},
   "outputs": [
    {
     "data": {
      "text/plain": [
       "0.8947368421052632"
      ]
     },
     "execution_count": 9,
     "metadata": {},
     "output_type": "execute_result"
    },
    {
     "name": "stdout",
     "output_type": "stream",
     "text": [
      "time: 0 ns (started: 2021-02-21 14:59:21 +05:30)\n"
     ]
    }
   ],
   "source": [
    "accuracy_score(y_pred,y_test)"
   ]
  },
  {
   "cell_type": "code",
   "execution_count": 10,
   "metadata": {},
   "outputs": [
    {
     "data": {
      "text/plain": [
       "array([[9, 1],\n",
       "       [1, 8]], dtype=int64)"
      ]
     },
     "execution_count": 10,
     "metadata": {},
     "output_type": "execute_result"
    },
    {
     "name": "stdout",
     "output_type": "stream",
     "text": [
      "time: 0 ns (started: 2021-02-21 14:59:21 +05:30)\n"
     ]
    }
   ],
   "source": [
    "confusion_matrix(y_pred,y_test)"
   ]
  },
  {
   "cell_type": "code",
   "execution_count": 11,
   "metadata": {},
   "outputs": [
    {
     "name": "stdout",
     "output_type": "stream",
     "text": [
      "time: 32 ms (started: 2021-02-21 14:59:21 +05:30)\n"
     ]
    }
   ],
   "source": [
    "import pickle\n",
    "pickle.dump(clf,open('img_model.p','wb'))"
   ]
  },
  {
   "cell_type": "code",
   "execution_count": 12,
   "metadata": {},
   "outputs": [
    {
     "name": "stdout",
     "output_type": "stream",
     "text": [
      "time: 31 ms (started: 2021-02-21 14:59:21 +05:30)\n"
     ]
    }
   ],
   "source": [
    "model = pickle.load(open('img_model.p','rb'))"
   ]
  },
  {
   "cell_type": "code",
   "execution_count": 13,
   "metadata": {},
   "outputs": [
    {
     "name": "stdout",
     "output_type": "stream",
     "text": [
      "enter your urlhttps://images-na.ssl-images-amazon.com/images/I/51ca-OUSBML._SY879_.jpg\n",
      "(879, 495, 3)\n",
      " PREDICTED OUTPUT: rose\n"
     ]
    },
    {
     "data": {
      "image/png": "[encoded data removed]",
      "text/plain": [
       "<Figure size 432x288 with 1 Axes>"
      ]
     },
     "metadata": {
      "needs_background": "light"
     },
     "output_type": "display_data"
    },
    {
     "name": "stdout",
     "output_type": "stream",
     "text": [
      "time: 1min 41s (started: 2021-02-21 14:59:21 +05:30)\n"
     ]
    }
   ],
   "source": [
    "#testing image\n",
    "flat_data=[]\n",
    "url = input('enter your url')\n",
    "img = imread(url)\n",
    "img_resized = resize(img,(150,150,3))\n",
    "flat_data.append(img_resized.flatten())\n",
    "flat_data = np.array(flat_data)\n",
    "print(img.shape)\n",
    "plt.imshow(img_resized)\n",
    "y_out = model.predict(flat_data)\n",
    "y_out =CATEGORIES[y_out[0]]\n",
    "print(f' PREDICTED OUTPUT: {y_out}')"
   ]
  },
  {
   "cell_type": "code",
   "execution_count": 14,
   "metadata": {},
   "outputs": [
    {
     "name": "stdout",
     "output_type": "stream",
     "text": [
      "Requirement already satisfied: streamlit in c:\\users\\asus\\anaconda3\\lib\\site-packages (0.76.0)\n",
      "Requirement already satisfied: packaging in c:\\users\\asus\\anaconda3\\lib\\site-packages (from streamlit) (20.4)\n",
      "Requirement already satisfied: python-dateutil in c:\\users\\asus\\anaconda3\\lib\\site-packages (from streamlit) (2.8.1)\n",
      "Requirement already satisfied: tzlocal in c:\\users\\asus\\anaconda3\\lib\\site-packages (from streamlit) (2.1)\n",
      "Requirement already satisfied: pydeck>=0.1.dev5 in c:\\users\\asus\\anaconda3\\lib\\site-packages (from streamlit) (0.6.1)\n",
      "Requirement already satisfied: astor in c:\\users\\asus\\anaconda3\\lib\\site-packages (from streamlit) (0.8.1)\n",
      "Requirement already satisfied: pillow>=6.2.0 in c:\\users\\asus\\anaconda3\\lib\\site-packages (from streamlit) (8.0.1)\n",
      "Requirement already satisfied: gitpython in c:\\users\\asus\\anaconda3\\lib\\site-packages (from streamlit) (3.1.13)\n",
      "Requirement already satisfied: base58 in c:\\users\\asus\\anaconda3\\lib\\site-packages (from streamlit) (2.1.0)\n",
      "Requirement already satisfied: validators in c:\\users\\asus\\anaconda3\\lib\\site-packages (from streamlit) (0.18.2)\n",
      "Requirement already satisfied: altair>=3.2.0 in c:\\users\\asus\\anaconda3\\lib\\site-packages (from streamlit) (4.1.0)\n",
      "Requirement already satisfied: blinker in c:\\users\\asus\\anaconda3\\lib\\site-packages (from streamlit) (1.4)\n",
      "Requirement already satisfied: click>=7.0 in c:\\users\\asus\\anaconda3\\lib\\site-packages (from streamlit) (7.1.2)\n",
      "Requirement already satisfied: protobuf!=3.11,>=3.6.0 in c:\\users\\asus\\anaconda3\\lib\\site-packages (from streamlit) (3.15.1)\n",
      "Requirement already satisfied: toml in c:\\users\\asus\\anaconda3\\lib\\site-packages (from streamlit) (0.10.1)\n",
      "Requirement already satisfied: pandas>=0.21.0 in c:\\users\\asus\\anaconda3\\lib\\site-packages (from streamlit) (1.1.3)\n",
      "Requirement already satisfied: tornado>=5.0 in c:\\users\\asus\\anaconda3\\lib\\site-packages (from streamlit) (6.0.4)\n",
      "Requirement already satisfied: numpy in c:\\users\\asus\\anaconda3\\lib\\site-packages (from streamlit) (1.19.2)\n",
      "Requirement already satisfied: pyarrow; python_version < \"3.9\" in c:\\users\\asus\\anaconda3\\lib\\site-packages (from streamlit) (3.0.0)\n",
      "Requirement already satisfied: cachetools>=4.0 in c:\\users\\asus\\anaconda3\\lib\\site-packages (from streamlit) (4.2.1)\n",
      "Requirement already satisfied: requests in c:\\users\\asus\\anaconda3\\lib\\site-packages (from streamlit) (2.24.0)\n",
      "Requirement already satisfied: watchdog; platform_system != \"Darwin\" in c:\\users\\asus\\anaconda3\\lib\\site-packages (from streamlit) (0.10.3)\n",
      "Requirement already satisfied: pyparsing>=2.0.2 in c:\\users\\asus\\anaconda3\\lib\\site-packages (from packaging->streamlit) (2.4.7)\n",
      "Requirement already satisfied: six in c:\\users\\asus\\anaconda3\\lib\\site-packages (from packaging->streamlit) (1.15.0)\n",
      "Requirement already satisfied: pytz in c:\\users\\asus\\anaconda3\\lib\\site-packages (from tzlocal->streamlit) (2020.1)\n",
      "Requirement already satisfied: traitlets>=4.3.2 in c:\\users\\asus\\anaconda3\\lib\\site-packages (from pydeck>=0.1.dev5->streamlit) (5.0.5)\n",
      "Requirement already satisfied: ipykernel>=5.1.2; python_version >= \"3.4\" in c:\\users\\asus\\anaconda3\\lib\\site-packages (from pydeck>=0.1.dev5->streamlit) (5.3.4)\n",
      "Requirement already satisfied: ipywidgets>=7.0.0 in c:\\users\\asus\\anaconda3\\lib\\site-packages (from pydeck>=0.1.dev5->streamlit) (7.5.1)\n",
      "Requirement already satisfied: jinja2>=2.10.1 in c:\\users\\asus\\anaconda3\\lib\\site-packages (from pydeck>=0.1.dev5->streamlit) (2.11.2)\n",
      "Requirement already satisfied: gitdb<5,>=4.0.1 in c:\\users\\asus\\anaconda3\\lib\\site-packages (from gitpython->streamlit) (4.0.5)\n",
      "Requirement already satisfied: decorator>=3.4.0 in c:\\users\\asus\\anaconda3\\lib\\site-packages (from validators->streamlit) (4.4.2)\n",
      "Requirement already satisfied: jsonschema in c:\\users\\asus\\anaconda3\\lib\\site-packages (from altair>=3.2.0->streamlit) (3.2.0)\n",
      "Requirement already satisfied: entrypoints in c:\\users\\asus\\anaconda3\\lib\\site-packages (from altair>=3.2.0->streamlit) (0.3)\n",
      "Requirement already satisfied: toolz in c:\\users\\asus\\anaconda3\\lib\\site-packages (from altair>=3.2.0->streamlit) (0.11.1)\n",
      "Requirement already satisfied: urllib3!=1.25.0,!=1.25.1,<1.26,>=1.21.1 in c:\\users\\asus\\anaconda3\\lib\\site-packages (from requests->streamlit) (1.25.11)\n",
      "Requirement already satisfied: certifi>=2017.4.17 in c:\\users\\asus\\anaconda3\\lib\\site-packages (from requests->streamlit) (2020.6.20)\n",
      "Requirement already satisfied: chardet<4,>=3.0.2 in c:\\users\\asus\\anaconda3\\lib\\site-packages (from requests->streamlit) (3.0.4)\n",
      "Requirement already satisfied: idna<3,>=2.5 in c:\\users\\asus\\anaconda3\\lib\\site-packages (from requests->streamlit) (2.10)\n",
      "Requirement already satisfied: pathtools>=0.1.1 in c:\\users\\asus\\anaconda3\\lib\\site-packages (from watchdog; platform_system != \"Darwin\"->streamlit) (0.1.2)\n",
      "Requirement already satisfied: ipython-genutils in c:\\users\\asus\\anaconda3\\lib\\site-packages (from traitlets>=4.3.2->pydeck>=0.1.dev5->streamlit) (0.2.0)\n",
      "Requirement already satisfied: jupyter-client in c:\\users\\asus\\anaconda3\\lib\\site-packages (from ipykernel>=5.1.2; python_version >= \"3.4\"->pydeck>=0.1.dev5->streamlit) (6.1.7)\n",
      "Requirement already satisfied: ipython>=5.0.0 in c:\\users\\asus\\anaconda3\\lib\\site-packages (from ipykernel>=5.1.2; python_version >= \"3.4\"->pydeck>=0.1.dev5->streamlit) (7.19.0)\n",
      "Requirement already satisfied: widgetsnbextension~=3.5.0 in c:\\users\\asus\\anaconda3\\lib\\site-packages (from ipywidgets>=7.0.0->pydeck>=0.1.dev5->streamlit) (3.5.1)\n",
      "Requirement already satisfied: nbformat>=4.2.0 in c:\\users\\asus\\anaconda3\\lib\\site-packages (from ipywidgets>=7.0.0->pydeck>=0.1.dev5->streamlit) (5.0.8)\n",
      "Requirement already satisfied: MarkupSafe>=0.23 in c:\\users\\asus\\anaconda3\\lib\\site-packages (from jinja2>=2.10.1->pydeck>=0.1.dev5->streamlit) (1.1.1)\n",
      "Requirement already satisfied: smmap<4,>=3.0.1 in c:\\users\\asus\\anaconda3\\lib\\site-packages (from gitdb<5,>=4.0.1->gitpython->streamlit) (3.0.5)\n",
      "Requirement already satisfied: setuptools in c:\\users\\asus\\anaconda3\\lib\\site-packages (from jsonschema->altair>=3.2.0->streamlit) (50.3.1.post20201107)\n",
      "Requirement already satisfied: pyrsistent>=0.14.0 in c:\\users\\asus\\anaconda3\\lib\\site-packages (from jsonschema->altair>=3.2.0->streamlit) (0.17.3)\n",
      "Requirement already satisfied: attrs>=17.4.0 in c:\\users\\asus\\anaconda3\\lib\\site-packages (from jsonschema->altair>=3.2.0->streamlit) (20.3.0)\n",
      "Requirement already satisfied: pyzmq>=13 in c:\\users\\asus\\anaconda3\\lib\\site-packages (from jupyter-client->ipykernel>=5.1.2; python_version >= \"3.4\"->pydeck>=0.1.dev5->streamlit) (19.0.2)\n",
      "Requirement already satisfied: jupyter-core>=4.6.0 in c:\\users\\asus\\anaconda3\\lib\\site-packages (from jupyter-client->ipykernel>=5.1.2; python_version >= \"3.4\"->pydeck>=0.1.dev5->streamlit) (4.6.3)\n",
      "Requirement already satisfied: prompt-toolkit!=3.0.0,!=3.0.1,<3.1.0,>=2.0.0 in c:\\users\\asus\\anaconda3\\lib\\site-packages (from ipython>=5.0.0->ipykernel>=5.1.2; python_version >= \"3.4\"->pydeck>=0.1.dev5->streamlit) (3.0.8)\n",
      "Requirement already satisfied: jedi>=0.10 in c:\\users\\asus\\anaconda3\\lib\\site-packages (from ipython>=5.0.0->ipykernel>=5.1.2; python_version >= \"3.4\"->pydeck>=0.1.dev5->streamlit) (0.17.1)\n",
      "Requirement already satisfied: colorama; sys_platform == \"win32\" in c:\\users\\asus\\anaconda3\\lib\\site-packages (from ipython>=5.0.0->ipykernel>=5.1.2; python_version >= \"3.4\"->pydeck>=0.1.dev5->streamlit) (0.4.4)\n",
      "Requirement already satisfied: pygments in c:\\users\\asus\\anaconda3\\lib\\site-packages (from ipython>=5.0.0->ipykernel>=5.1.2; python_version >= \"3.4\"->pydeck>=0.1.dev5->streamlit) (2.7.2)\n",
      "Requirement already satisfied: pickleshare in c:\\users\\asus\\anaconda3\\lib\\site-packages (from ipython>=5.0.0->ipykernel>=5.1.2; python_version >= \"3.4\"->pydeck>=0.1.dev5->streamlit) (0.7.5)\n",
      "Requirement already satisfied: backcall in c:\\users\\asus\\anaconda3\\lib\\site-packages (from ipython>=5.0.0->ipykernel>=5.1.2; python_version >= \"3.4\"->pydeck>=0.1.dev5->streamlit) (0.2.0)\n",
      "Requirement already satisfied: notebook>=4.4.1 in c:\\users\\asus\\anaconda3\\lib\\site-packages (from widgetsnbextension~=3.5.0->ipywidgets>=7.0.0->pydeck>=0.1.dev5->streamlit) (6.1.4)\n",
      "Requirement already satisfied: pywin32>=1.0; sys_platform == \"win32\" in c:\\users\\asus\\anaconda3\\lib\\site-packages (from jupyter-core>=4.6.0->jupyter-client->ipykernel>=5.1.2; python_version >= \"3.4\"->pydeck>=0.1.dev5->streamlit) (227)\n",
      "Requirement already satisfied: wcwidth in c:\\users\\asus\\anaconda3\\lib\\site-packages (from prompt-toolkit!=3.0.0,!=3.0.1,<3.1.0,>=2.0.0->ipython>=5.0.0->ipykernel>=5.1.2; python_version >= \"3.4\"->pydeck>=0.1.dev5->streamlit) (0.2.5)\n",
      "Requirement already satisfied: parso<0.8.0,>=0.7.0 in c:\\users\\asus\\anaconda3\\lib\\site-packages (from jedi>=0.10->ipython>=5.0.0->ipykernel>=5.1.2; python_version >= \"3.4\"->pydeck>=0.1.dev5->streamlit) (0.7.0)\n",
      "Requirement already satisfied: prometheus-client in c:\\users\\asus\\anaconda3\\lib\\site-packages (from notebook>=4.4.1->widgetsnbextension~=3.5.0->ipywidgets>=7.0.0->pydeck>=0.1.dev5->streamlit) (0.8.0)\n",
      "Requirement already satisfied: nbconvert in c:\\users\\asus\\anaconda3\\lib\\site-packages (from notebook>=4.4.1->widgetsnbextension~=3.5.0->ipywidgets>=7.0.0->pydeck>=0.1.dev5->streamlit) (6.0.7)\n",
      "Requirement already satisfied: Send2Trash in c:\\users\\asus\\anaconda3\\lib\\site-packages (from notebook>=4.4.1->widgetsnbextension~=3.5.0->ipywidgets>=7.0.0->pydeck>=0.1.dev5->streamlit) (1.5.0)\n",
      "Requirement already satisfied: terminado>=0.8.3 in c:\\users\\asus\\anaconda3\\lib\\site-packages (from notebook>=4.4.1->widgetsnbextension~=3.5.0->ipywidgets>=7.0.0->pydeck>=0.1.dev5->streamlit) (0.9.1)\n",
      "Requirement already satisfied: argon2-cffi in c:\\users\\asus\\anaconda3\\lib\\site-packages (from notebook>=4.4.1->widgetsnbextension~=3.5.0->ipywidgets>=7.0.0->pydeck>=0.1.dev5->streamlit) (20.1.0)\n",
      "Requirement already satisfied: mistune<2,>=0.8.1 in c:\\users\\asus\\anaconda3\\lib\\site-packages (from nbconvert->notebook>=4.4.1->widgetsnbextension~=3.5.0->ipywidgets>=7.0.0->pydeck>=0.1.dev5->streamlit) (0.8.4)\n",
      "Requirement already satisfied: pandocfilters>=1.4.1 in c:\\users\\asus\\anaconda3\\lib\\site-packages (from nbconvert->notebook>=4.4.1->widgetsnbextension~=3.5.0->ipywidgets>=7.0.0->pydeck>=0.1.dev5->streamlit) (1.4.3)\n",
      "Requirement already satisfied: defusedxml in c:\\users\\asus\\anaconda3\\lib\\site-packages (from nbconvert->notebook>=4.4.1->widgetsnbextension~=3.5.0->ipywidgets>=7.0.0->pydeck>=0.1.dev5->streamlit) (0.6.0)\n",
      "Requirement already satisfied: jupyterlab-pygments in c:\\users\\asus\\anaconda3\\lib\\site-packages (from nbconvert->notebook>=4.4.1->widgetsnbextension~=3.5.0->ipywidgets>=7.0.0->pydeck>=0.1.dev5->streamlit) (0.1.2)\n",
      "Requirement already satisfied: bleach in c:\\users\\asus\\anaconda3\\lib\\site-packages (from nbconvert->notebook>=4.4.1->widgetsnbextension~=3.5.0->ipywidgets>=7.0.0->pydeck>=0.1.dev5->streamlit) (3.2.1)\n",
      "Requirement already satisfied: testpath in c:\\users\\asus\\anaconda3\\lib\\site-packages (from nbconvert->notebook>=4.4.1->widgetsnbextension~=3.5.0->ipywidgets>=7.0.0->pydeck>=0.1.dev5->streamlit) (0.4.4)\n",
      "Requirement already satisfied: nbclient<0.6.0,>=0.5.0 in c:\\users\\asus\\anaconda3\\lib\\site-packages (from nbconvert->notebook>=4.4.1->widgetsnbextension~=3.5.0->ipywidgets>=7.0.0->pydeck>=0.1.dev5->streamlit) (0.5.1)\n",
      "Requirement already satisfied: pywinpty>=0.5 in c:\\users\\asus\\anaconda3\\lib\\site-packages (from terminado>=0.8.3->notebook>=4.4.1->widgetsnbextension~=3.5.0->ipywidgets>=7.0.0->pydeck>=0.1.dev5->streamlit) (0.5.7)\n",
      "Requirement already satisfied: cffi>=1.0.0 in c:\\users\\asus\\anaconda3\\lib\\site-packages (from argon2-cffi->notebook>=4.4.1->widgetsnbextension~=3.5.0->ipywidgets>=7.0.0->pydeck>=0.1.dev5->streamlit) (1.14.3)\n",
      "Requirement already satisfied: webencodings in c:\\users\\asus\\anaconda3\\lib\\site-packages (from bleach->nbconvert->notebook>=4.4.1->widgetsnbextension~=3.5.0->ipywidgets>=7.0.0->pydeck>=0.1.dev5->streamlit) (0.5.1)\n",
      "Requirement already satisfied: async-generator in c:\\users\\asus\\anaconda3\\lib\\site-packages (from nbclient<0.6.0,>=0.5.0->nbconvert->notebook>=4.4.1->widgetsnbextension~=3.5.0->ipywidgets>=7.0.0->pydeck>=0.1.dev5->streamlit) (1.10)\n",
      "Requirement already satisfied: nest-asyncio in c:\\users\\asus\\anaconda3\\lib\\site-packages (from nbclient<0.6.0,>=0.5.0->nbconvert->notebook>=4.4.1->widgetsnbextension~=3.5.0->ipywidgets>=7.0.0->pydeck>=0.1.dev5->streamlit) (1.4.2)\n",
      "Requirement already satisfied: pycparser in c:\\users\\asus\\anaconda3\\lib\\site-packages (from cffi>=1.0.0->argon2-cffi->notebook>=4.4.1->widgetsnbextension~=3.5.0->ipywidgets>=7.0.0->pydeck>=0.1.dev5->streamlit) (2.20)\n"
     ]
    },
    {
     "name": "stdout",
     "output_type": "stream",
     "text": [
      "Requirement already satisfied: pyngrok==4.1.1 in c:\\users\\asus\\anaconda3\\lib\\site-packages (4.1.1)\n",
      "Requirement already satisfied: PyYAML in c:\\users\\asus\\anaconda3\\lib\\site-packages (from pyngrok==4.1.1) (5.3.1)\n",
      "Requirement already satisfied: future in c:\\users\\asus\\anaconda3\\lib\\site-packages (from pyngrok==4.1.1) (0.18.2)\n",
      "time: 5.75 s (started: 2021-02-21 15:01:02 +05:30)\n"
     ]
    }
   ],
   "source": [
    "!pip install streamlit\n",
    "!pip install pyngrok==4.1.1\n",
    "from pyngrok import ngrok"
   ]
  },
  {
   "cell_type": "code",
   "execution_count": 15,
   "metadata": {},
   "outputs": [
    {
     "name": "stdout",
     "output_type": "stream",
     "text": [
      "Overwriting app.py\n",
      "time: 0 ns (started: 2021-02-21 15:01:08 +05:30)\n"
     ]
    }
   ],
   "source": [
    "%%writefile app.py\n",
    "import streamlit as st\n",
    "import numpy as np\n",
    "import pickle\n",
    "from skimage.io import imread\n",
    "from skimage.transform import resize\n",
    "from PIL import Image\n",
    "st.title('Image Classifier')\n",
    "st.text('Upload Image')\n",
    "\n",
    "model = pickle.load(open('img_model.p','rb'))\n",
    "\n",
    "uploaded_file = st.file_uploader(\"Choose an image....\", type =\"jpg\")\n",
    "if uploaded_file is not None:\n",
    "    img = Image.open(uploaded_file)\n",
    "    st.image (img,caption = 'Uploaded Image')\n",
    "    \n",
    "    if st.button('PREDICT'):\n",
    "        CATEGORIES = ['sunflower','rose']\n",
    "        st.write('Resultt...')\n",
    "        flat_data =[]\n",
    "        img = np.array(img)\n",
    "        img_resized = resize(img,(150,150,3))\n",
    "        flat_data.append(img_resized.flatten())\n",
    "        flat_data = np.array(flat_data)\n",
    "        y_out = model.predict(flat_data)\n",
    "        y_out =CATEGORIES[y_out[0]]\n",
    "        st.title(f' PREDICTED OUTPUT: {y_out}')\n",
    "        q = model.predict_proba(flat_data)\n",
    "        for index, item in enumerate(CATEGORIES):\n",
    "            st.write(f'{item}: {q[0][index]*100}')"
   ]
  },
  {
   "cell_type": "code",
   "execution_count": null,
   "metadata": {},
   "outputs": [],
   "source": [
    "!streamlit run app.py"
   ]
  }
 ],
 "metadata": {
  "kernelspec": {
   "display_name": "Python 3",
   "language": "python",
   "name": "python3"
  },
  "language_info": {
   "codemirror_mode": {
    "name": "ipython",
    "version": 3
   },
   "file_extension": ".py",
   "mimetype": "text/x-python",
   "name": "python",
   "nbconvert_exporter": "python",
   "pygments_lexer": "ipython3",
   "version": "3.8.5"
  }
 },
 "nbformat": 4,
 "nbformat_minor": 4
}
